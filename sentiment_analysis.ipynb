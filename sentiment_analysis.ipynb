{
 "cells": [
  {
   "cell_type": "code",
   "execution_count": 572,
   "id": "d1d5bef3-ef34-4150-810f-e4bcee0f1161",
   "metadata": {},
   "outputs": [],
   "source": [
    "import pandas as pd\n",
    "import numpy as np\n",
    "import re\n",
    "import nltk\n",
    "from nltk.corpus import stopwords\n",
    "from nltk.sentiment.vader import SentimentIntensityAnalyzer"
   ]
  },
  {
   "cell_type": "code",
   "execution_count": 574,
   "id": "6bb8f174-b895-4190-bda2-ec889dea612b",
   "metadata": {},
   "outputs": [],
   "source": [
    "dataset = pd.read_csv(\"amazon.csv\")"
   ]
  },
  {
   "cell_type": "code",
   "execution_count": 578,
   "id": "9f1a078f-6fa1-4a7e-a589-5082b48f41ed",
   "metadata": {},
   "outputs": [],
   "source": [
    "user_review = dataset[[\"about_product\", \"product_id\"]]"
   ]
  },
  {
   "cell_type": "code",
   "execution_count": 580,
   "id": "90dae0d7-083c-4713-91ac-53b53dbfc96c",
   "metadata": {},
   "outputs": [],
   "source": [
    "user_review = user_review.rename(columns={'about_product': 'review_text', 'product_id': 'product_id'})"
   ]
  },
  {
   "cell_type": "code",
   "execution_count": null,
   "id": "cc60d9c3-a32e-4267-a64c-a7bf1543b7fe",
   "metadata": {},
   "outputs": [],
   "source": [
    "#user_review ile user_rating'i birleştiricez ileride"
   ]
  },
  {
   "cell_type": "code",
   "execution_count": 582,
   "id": "c4b8c71e-4ed2-4398-8ff8-24166e98acf8",
   "metadata": {},
   "outputs": [],
   "source": [
    "user_rating = dataset[[\"rating\",\"product_id\"]]"
   ]
  },
  {
   "cell_type": "code",
   "execution_count": 586,
   "id": "51824124-6e89-4e72-9d1a-5ac03313ef2a",
   "metadata": {},
   "outputs": [],
   "source": [
    "user_rating = user_rating.rename(columns={\"rating\" : \"rating\",\"product_id\" : \"product_id\"})"
   ]
  },
  {
   "cell_type": "code",
   "execution_count": null,
   "id": "ec0e4c48-3443-4c21-b7e1-86c7492fc3f2",
   "metadata": {},
   "outputs": [],
   "source": [
    "#Boşlukları 0 ile doldurma\n",
    "user_rating['rating'].fillna(0, inplace=True)"
   ]
  },
  {
   "cell_type": "code",
   "execution_count": null,
   "id": "14d6cc41-cc83-4f58-949d-434683999e7a",
   "metadata": {},
   "outputs": [],
   "source": [
    "#VERİ SETİNİ OLUŞTURDUK"
   ]
  },
  {
   "cell_type": "code",
   "execution_count": null,
   "id": "00455ae9-e336-48c9-bcb8-121450935d43",
   "metadata": {},
   "outputs": [],
   "source": [
    "#VERİ ÖN İŞLEME"
   ]
  },
  {
   "cell_type": "code",
   "execution_count": null,
   "id": "52be56ea-5266-4d7f-89a1-fdec41c4b92c",
   "metadata": {},
   "outputs": [],
   "source": [
    "def preprocess_dataset(data):\n",
    "    #url\n",
    "    data = re.sub(r\"http\\S+|www\\S+|https\\S+\", \"\", data)\n",
    "    #hashtag \n",
    "    data = re.sub(r\"\\#\\w+\", \"\", data)\n",
    "    #sayılar\n",
    "    data = re.sub(r\"\\d+\", \"\", data)\n",
    "    #noktalama\n",
    "    data = re.sub(r\"[^\\w\\s]\", \"\", data)\n",
    "    #fazla boşluklar\n",
    "    data = re.sub(r\"\\s+\", \" \", data).strip()\n",
    "    return data"
   ]
  },
  {
   "cell_type": "code",
   "execution_count": null,
   "id": "53e92ac9-91e0-411f-b442-991069822a76",
   "metadata": {},
   "outputs": [],
   "source": [
    "#Ön işlemeyi başlattık...\n",
    "user_review[\"review_text\"] = [preprocess_dataset(user_review) for user_review in user_review['review_text']]"
   ]
  },
  {
   "cell_type": "code",
   "execution_count": null,
   "id": "7faad341-05fe-4273-8926-cb9825ee77df",
   "metadata": {},
   "outputs": [],
   "source": [
    "#TOKENİZASYON"
   ]
  },
  {
   "cell_type": "code",
   "execution_count": null,
   "id": "ca5fc830-34ca-40e3-a3dc-ebc710aadd37",
   "metadata": {},
   "outputs": [],
   "source": [
    "def tokenization(data):\n",
    "    tokenized_text = data.split()\n",
    "    return tokenized_text"
   ]
  },
  {
   "cell_type": "code",
   "execution_count": null,
   "id": "57c492cd-6510-44d0-8307-cb5bf3ba456f",
   "metadata": {},
   "outputs": [],
   "source": [
    "# Her bir satıra preprocess_dataset fonksiyonunu uygula\n",
    "user_review[\"review_text\"] = user_review[\"review_text\"].apply(tokenization)\n"
   ]
  },
  {
   "cell_type": "code",
   "execution_count": null,
   "id": "96696f59-1fe6-4f7b-aee2-bd8a84360dad",
   "metadata": {},
   "outputs": [],
   "source": [
    "#BÜTÜN HARFLERİ KÜÇÜK HARF YAPMA"
   ]
  },
  {
   "cell_type": "code",
   "execution_count": null,
   "id": "b25af736-80af-40b0-92d9-6076f62dcc82",
   "metadata": {},
   "outputs": [],
   "source": [
    "user_review[\"review_text\"] = user_review[\"review_text\"].apply(lambda lists: [word.lower() for word in lists])"
   ]
  },
  {
   "cell_type": "code",
   "execution_count": null,
   "id": "abd4c757-d9af-4817-8aca-b1f8a6eeae04",
   "metadata": {},
   "outputs": [],
   "source": [
    "#BOŞLUKLARI SİLME"
   ]
  },
  {
   "cell_type": "code",
   "execution_count": null,
   "id": "37ec812a-9f4a-4a27-af9d-51b5c1241204",
   "metadata": {},
   "outputs": [],
   "source": [
    "user_review[\"review_text\"] = user_review[\"review_text\"].apply(lambda lists: [word.strip(' ') for word in lists])\n"
   ]
  },
  {
   "cell_type": "code",
   "execution_count": null,
   "id": "895be139-1994-4d61-99ed-941d91b35779",
   "metadata": {},
   "outputs": [],
   "source": [
    "#STOPWORDS"
   ]
  },
  {
   "cell_type": "code",
   "execution_count": null,
   "id": "dea7530f-04e3-4d9a-9c2b-c0f3d9655d7c",
   "metadata": {},
   "outputs": [],
   "source": [
    "nltk.download('stopwords')"
   ]
  },
  {
   "cell_type": "code",
   "execution_count": null,
   "id": "2c9292c1-99d8-47b4-91a6-66d240dee1f8",
   "metadata": {},
   "outputs": [],
   "source": [
    "stopwords = set(stopwords.words('english'))"
   ]
  },
  {
   "cell_type": "code",
   "execution_count": null,
   "id": "db31a751-9ab6-4e71-9d3b-417fff87b665",
   "metadata": {},
   "outputs": [],
   "source": [
    "user_review[\"review_text\"] = user_review[\"review_text\"].apply(lambda lists: [word for word in lists if not word in stopwords])\n"
   ]
  },
  {
   "cell_type": "code",
   "execution_count": 588,
   "id": "11fd9315-c907-4717-8b2c-1c0a59bcec67",
   "metadata": {},
   "outputs": [],
   "source": [
    "#SCORE İSİMLİ DEĞİŞKEN EKLENDİ"
   ]
  },
  {
   "cell_type": "code",
   "execution_count": 598,
   "id": "ed80035a-ac5a-4683-a17e-eba54b023f2f",
   "metadata": {},
   "outputs": [],
   "source": [
    "user_review[\"score\"] = \"\""
   ]
  },
  {
   "cell_type": "code",
   "execution_count": 611,
   "id": "4b275cb3-3166-4e05-ba1f-e5767bbc91d6",
   "metadata": {},
   "outputs": [],
   "source": [
    "user_review[\"review_text\"] = user_review[\"review_text\"].apply(lambda txt: ' '.join(txt))"
   ]
  },
  {
   "cell_type": "code",
   "execution_count": 612,
   "id": "226935bb-d3f6-44bb-89cb-5a3cd6826f5c",
   "metadata": {},
   "outputs": [],
   "source": [
    "#DUYGU ANALİZİ"
   ]
  },
  {
   "cell_type": "code",
   "execution_count": 613,
   "id": "34ed6ef3-dc34-4eac-b2db-d0bb0420929d",
   "metadata": {},
   "outputs": [
    {
     "name": "stderr",
     "output_type": "stream",
     "text": [
      "[nltk_data] Downloading package vader_lexicon to\n",
      "[nltk_data]     C:\\Users\\samet\\AppData\\Roaming\\nltk_data...\n",
      "[nltk_data]   Package vader_lexicon is already up-to-date!\n"
     ]
    },
    {
     "data": {
      "text/plain": [
       "True"
      ]
     },
     "execution_count": 613,
     "metadata": {},
     "output_type": "execute_result"
    }
   ],
   "source": [
    "nltk.download(\"vader_lexicon\")"
   ]
  },
  {
   "cell_type": "code",
   "execution_count": 615,
   "id": "985e3242-01c8-41f2-b299-0d10888f2c14",
   "metadata": {},
   "outputs": [],
   "source": [
    "vader_analyzer = SentimentIntensityAnalyzer()"
   ]
  },
  {
   "cell_type": "code",
   "execution_count": 617,
   "id": "ed3d451c-89b8-4d47-b306-85f62484f274",
   "metadata": {},
   "outputs": [],
   "source": [
    "user_review[\"score\"] = user_review[\"review_text\"].apply(lambda lists: vader_analyzer.polarity_scores(lists))"
   ]
  },
  {
   "cell_type": "code",
   "execution_count": 618,
   "id": "36b916a8-c975-4221-99cf-5c08ed9de647",
   "metadata": {
    "scrolled": true
   },
   "outputs": [],
   "source": [
    "user_review_score = pd.json_normalize(user_review[\"score\"])"
   ]
  },
  {
   "cell_type": "code",
   "execution_count": 619,
   "id": "d0cfb604-f041-404d-9ff5-56397ec20ebf",
   "metadata": {},
   "outputs": [],
   "source": [
    "user_review = pd.concat([user_review.drop(columns=[\"score\"]), user_review_score], axis=1)"
   ]
  },
  {
   "cell_type": "code",
   "execution_count": 620,
   "id": "932f4fb3-6177-42a3-b606-3586307afdec",
   "metadata": {},
   "outputs": [],
   "source": [
    "#KİŞİLERİN VERDİĞİ DEĞERLENDİRME PUANI İLE YAZDIKLARININ DEĞERLENDİRMELERİN POLARİTESİ AYNI DATAFRAME ALDIK"
   ]
  },
  {
   "cell_type": "code",
   "execution_count": 621,
   "id": "299a342f-fc29-4a76-beaa-78c0d591d375",
   "metadata": {},
   "outputs": [],
   "source": [
    "df = pd.merge(user_review,user_rating, on = \"product_id\")"
   ]
  },
  {
   "cell_type": "code",
   "execution_count": 622,
   "id": "c6ce711b-2d39-4fc8-aef6-46771942a74e",
   "metadata": {},
   "outputs": [],
   "source": [
    "df = df.drop_duplicates()"
   ]
  },
  {
   "cell_type": "code",
   "execution_count": null,
   "id": "b91e9a59-2e24-49fa-b6b8-3f93e84bd37b",
   "metadata": {},
   "outputs": [],
   "source": []
  },
  {
   "cell_type": "code",
   "execution_count": null,
   "id": "0b0f3a84-d82a-4b56-9704-c5ed892d0929",
   "metadata": {},
   "outputs": [],
   "source": []
  },
  {
   "cell_type": "code",
   "execution_count": null,
   "id": "7545fa3c-ef2e-4891-a167-90c6c7204153",
   "metadata": {},
   "outputs": [],
   "source": []
  },
  {
   "cell_type": "code",
   "execution_count": null,
   "id": "d7b6b332-d22a-40df-8029-0b1416b9a148",
   "metadata": {},
   "outputs": [],
   "source": []
  },
  {
   "cell_type": "code",
   "execution_count": null,
   "id": "d3d73d50-b638-4e50-84b0-e793190763a2",
   "metadata": {},
   "outputs": [],
   "source": []
  },
  {
   "cell_type": "code",
   "execution_count": null,
   "id": "c298ad31-bb44-43f7-9a68-2a1e31a2ae44",
   "metadata": {},
   "outputs": [],
   "source": []
  },
  {
   "cell_type": "code",
   "execution_count": null,
   "id": "38598462-5337-46d0-8b7c-0f435e89871c",
   "metadata": {},
   "outputs": [],
   "source": []
  },
  {
   "cell_type": "code",
   "execution_count": null,
   "id": "97c96150-d8fa-4a71-b828-04e607ae8e13",
   "metadata": {},
   "outputs": [],
   "source": []
  },
  {
   "cell_type": "code",
   "execution_count": null,
   "id": "7b5cb948-402d-4552-8cd4-0e5cef93e065",
   "metadata": {},
   "outputs": [],
   "source": []
  },
  {
   "cell_type": "code",
   "execution_count": null,
   "id": "0c3782f7-e894-4c1e-930d-51df5e8fd525",
   "metadata": {},
   "outputs": [],
   "source": []
  },
  {
   "cell_type": "code",
   "execution_count": null,
   "id": "90c0e5d4-fba0-4589-8d38-1fb74b7bec2c",
   "metadata": {},
   "outputs": [],
   "source": []
  },
  {
   "cell_type": "code",
   "execution_count": null,
   "id": "103b285a-47ba-4e74-8b28-bde9343966c9",
   "metadata": {},
   "outputs": [],
   "source": []
  }
 ],
 "metadata": {
  "kernelspec": {
   "display_name": "Python 3 (ipykernel)",
   "language": "python",
   "name": "python3"
  },
  "language_info": {
   "codemirror_mode": {
    "name": "ipython",
    "version": 3
   },
   "file_extension": ".py",
   "mimetype": "text/x-python",
   "name": "python",
   "nbconvert_exporter": "python",
   "pygments_lexer": "ipython3",
   "version": "3.11.5"
  }
 },
 "nbformat": 4,
 "nbformat_minor": 5
}
